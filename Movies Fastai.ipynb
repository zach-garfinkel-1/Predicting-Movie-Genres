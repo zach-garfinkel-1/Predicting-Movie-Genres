{
 "cells": [
  {
   "cell_type": "markdown",
   "metadata": {},
   "source": [
    "# Predicting Movie Genres using their scripts"
   ]
  },
  {
   "cell_type": "code",
   "execution_count": 2,
   "metadata": {
    "ExecuteTime": {
     "end_time": "2020-07-06T22:17:03.180017Z",
     "start_time": "2020-07-06T22:16:57.047032Z"
    }
   },
   "outputs": [],
   "source": [
    "import numpy as np\n",
    "import pandas as pd\n",
    "import math\n",
    "import random\n",
    "\n",
    "import matplotlib.pyplot as plt\n",
    "import matplotlib\n",
    "%matplotlib inline\n",
    "plt.style.use('fivethirtyeight')\n",
    "\n",
    "from fastai import *\n",
    "from fastai.tabular import *"
   ]
  },
  {
   "cell_type": "markdown",
   "metadata": {},
   "source": [
    "### The dataset\n",
    "- movies.csv is a large dataset containing the scripts of 242 movies\n",
    "- The features are the proportions of each of 5000 common words in the scripts"
   ]
  },
  {
   "cell_type": "code",
   "execution_count": 5,
   "metadata": {
    "ExecuteTime": {
     "end_time": "2020-07-06T22:18:41.089433Z",
     "start_time": "2020-07-06T22:18:40.376285Z"
    }
   },
   "outputs": [],
   "source": [
    "movie_df = pd.read_csv('project3/movies.csv')"
   ]
  },
  {
   "cell_type": "code",
   "execution_count": 6,
   "metadata": {
    "ExecuteTime": {
     "end_time": "2020-07-06T22:18:49.583038Z",
     "start_time": "2020-07-06T22:18:49.575206Z"
    }
   },
   "outputs": [
    {
     "data": {
      "text/plain": [
       "(242, 5006)"
      ]
     },
     "execution_count": 6,
     "metadata": {},
     "output_type": "execute_result"
    }
   ],
   "source": [
    "movie_df.shape"
   ]
  },
  {
   "cell_type": "code",
   "execution_count": 54,
   "metadata": {},
   "outputs": [],
   "source": [
    "np.random.seed(5)\n",
    "movie = movie_df.sample(frac=1)\n",
    "movie = movie.drop(['Title','Year','Rating','# Votes','# Words'], axis=1)"
   ]
  },
  {
   "cell_type": "code",
   "execution_count": 55,
   "metadata": {},
   "outputs": [
    {
     "data": {
      "text/html": [
       "<div>\n",
       "<style scoped>\n",
       "    .dataframe tbody tr th:only-of-type {\n",
       "        vertical-align: middle;\n",
       "    }\n",
       "\n",
       "    .dataframe tbody tr th {\n",
       "        vertical-align: top;\n",
       "    }\n",
       "\n",
       "    .dataframe thead th {\n",
       "        text-align: right;\n",
       "    }\n",
       "</style>\n",
       "<table border=\"1\" class=\"dataframe\">\n",
       "  <thead>\n",
       "    <tr style=\"text-align: right;\">\n",
       "      <th></th>\n",
       "      <th>Genre</th>\n",
       "      <th>i</th>\n",
       "      <th>the</th>\n",
       "      <th>to</th>\n",
       "      <th>a</th>\n",
       "      <th>it</th>\n",
       "      <th>and</th>\n",
       "      <th>that</th>\n",
       "      <th>of</th>\n",
       "      <th>your</th>\n",
       "      <th>...</th>\n",
       "      <th>foster</th>\n",
       "      <th>pub</th>\n",
       "      <th>vegetarian</th>\n",
       "      <th>garrison</th>\n",
       "      <th>grammoo</th>\n",
       "      <th>chimney</th>\n",
       "      <th>bikini</th>\n",
       "      <th>richter</th>\n",
       "      <th>psychopath</th>\n",
       "      <th>fling</th>\n",
       "    </tr>\n",
       "  </thead>\n",
       "  <tbody>\n",
       "    <tr>\n",
       "      <th>180</th>\n",
       "      <td>romance</td>\n",
       "      <td>0.036421</td>\n",
       "      <td>0.029929</td>\n",
       "      <td>0.022961</td>\n",
       "      <td>0.029454</td>\n",
       "      <td>0.022328</td>\n",
       "      <td>0.016310</td>\n",
       "      <td>0.019002</td>\n",
       "      <td>0.010293</td>\n",
       "      <td>0.011718</td>\n",
       "      <td>...</td>\n",
       "      <td>0.000001</td>\n",
       "      <td>0.000001</td>\n",
       "      <td>0.000001</td>\n",
       "      <td>0.000001</td>\n",
       "      <td>0.000001</td>\n",
       "      <td>0.000001</td>\n",
       "      <td>0.000001</td>\n",
       "      <td>0.000001</td>\n",
       "      <td>0.000001</td>\n",
       "      <td>0.000001</td>\n",
       "    </tr>\n",
       "    <tr>\n",
       "      <th>162</th>\n",
       "      <td>action</td>\n",
       "      <td>0.023057</td>\n",
       "      <td>0.045455</td>\n",
       "      <td>0.023386</td>\n",
       "      <td>0.026021</td>\n",
       "      <td>0.020751</td>\n",
       "      <td>0.016140</td>\n",
       "      <td>0.012516</td>\n",
       "      <td>0.012187</td>\n",
       "      <td>0.015810</td>\n",
       "      <td>...</td>\n",
       "      <td>0.000001</td>\n",
       "      <td>0.000001</td>\n",
       "      <td>0.000001</td>\n",
       "      <td>0.000001</td>\n",
       "      <td>0.000001</td>\n",
       "      <td>0.000001</td>\n",
       "      <td>0.000001</td>\n",
       "      <td>0.000001</td>\n",
       "      <td>0.000001</td>\n",
       "      <td>0.000001</td>\n",
       "    </tr>\n",
       "    <tr>\n",
       "      <th>119</th>\n",
       "      <td>action</td>\n",
       "      <td>0.029278</td>\n",
       "      <td>0.041635</td>\n",
       "      <td>0.031559</td>\n",
       "      <td>0.018061</td>\n",
       "      <td>0.015019</td>\n",
       "      <td>0.012928</td>\n",
       "      <td>0.010076</td>\n",
       "      <td>0.020152</td>\n",
       "      <td>0.011217</td>\n",
       "      <td>...</td>\n",
       "      <td>0.000001</td>\n",
       "      <td>0.000001</td>\n",
       "      <td>0.000001</td>\n",
       "      <td>0.000001</td>\n",
       "      <td>0.000001</td>\n",
       "      <td>0.000001</td>\n",
       "      <td>0.000001</td>\n",
       "      <td>0.000001</td>\n",
       "      <td>0.000001</td>\n",
       "      <td>0.000001</td>\n",
       "    </tr>\n",
       "    <tr>\n",
       "      <th>187</th>\n",
       "      <td>action</td>\n",
       "      <td>0.038158</td>\n",
       "      <td>0.043860</td>\n",
       "      <td>0.021930</td>\n",
       "      <td>0.013158</td>\n",
       "      <td>0.014912</td>\n",
       "      <td>0.014035</td>\n",
       "      <td>0.012719</td>\n",
       "      <td>0.021930</td>\n",
       "      <td>0.022807</td>\n",
       "      <td>...</td>\n",
       "      <td>0.000001</td>\n",
       "      <td>0.000001</td>\n",
       "      <td>0.000001</td>\n",
       "      <td>0.000001</td>\n",
       "      <td>0.000001</td>\n",
       "      <td>0.000001</td>\n",
       "      <td>0.000001</td>\n",
       "      <td>0.000001</td>\n",
       "      <td>0.000001</td>\n",
       "      <td>0.000001</td>\n",
       "    </tr>\n",
       "    <tr>\n",
       "      <th>46</th>\n",
       "      <td>action</td>\n",
       "      <td>0.049335</td>\n",
       "      <td>0.021693</td>\n",
       "      <td>0.037439</td>\n",
       "      <td>0.021169</td>\n",
       "      <td>0.025367</td>\n",
       "      <td>0.014171</td>\n",
       "      <td>0.014171</td>\n",
       "      <td>0.007173</td>\n",
       "      <td>0.012596</td>\n",
       "      <td>...</td>\n",
       "      <td>0.000001</td>\n",
       "      <td>0.000001</td>\n",
       "      <td>0.000001</td>\n",
       "      <td>0.000001</td>\n",
       "      <td>0.000001</td>\n",
       "      <td>0.000001</td>\n",
       "      <td>0.000001</td>\n",
       "      <td>0.000001</td>\n",
       "      <td>0.000001</td>\n",
       "      <td>0.000001</td>\n",
       "    </tr>\n",
       "  </tbody>\n",
       "</table>\n",
       "<p>5 rows × 5001 columns</p>\n",
       "</div>"
      ],
      "text/plain": [
       "       Genre         i       the        to         a        it       and  \\\n",
       "180  romance  0.036421  0.029929  0.022961  0.029454  0.022328  0.016310   \n",
       "162   action  0.023057  0.045455  0.023386  0.026021  0.020751  0.016140   \n",
       "119   action  0.029278  0.041635  0.031559  0.018061  0.015019  0.012928   \n",
       "187   action  0.038158  0.043860  0.021930  0.013158  0.014912  0.014035   \n",
       "46    action  0.049335  0.021693  0.037439  0.021169  0.025367  0.014171   \n",
       "\n",
       "         that        of      your    ...       foster       pub  vegetarian  \\\n",
       "180  0.019002  0.010293  0.011718    ...     0.000001  0.000001    0.000001   \n",
       "162  0.012516  0.012187  0.015810    ...     0.000001  0.000001    0.000001   \n",
       "119  0.010076  0.020152  0.011217    ...     0.000001  0.000001    0.000001   \n",
       "187  0.012719  0.021930  0.022807    ...     0.000001  0.000001    0.000001   \n",
       "46   0.014171  0.007173  0.012596    ...     0.000001  0.000001    0.000001   \n",
       "\n",
       "     garrison   grammoo   chimney    bikini   richter  psychopath     fling  \n",
       "180  0.000001  0.000001  0.000001  0.000001  0.000001    0.000001  0.000001  \n",
       "162  0.000001  0.000001  0.000001  0.000001  0.000001    0.000001  0.000001  \n",
       "119  0.000001  0.000001  0.000001  0.000001  0.000001    0.000001  0.000001  \n",
       "187  0.000001  0.000001  0.000001  0.000001  0.000001    0.000001  0.000001  \n",
       "46   0.000001  0.000001  0.000001  0.000001  0.000001    0.000001  0.000001  \n",
       "\n",
       "[5 rows x 5001 columns]"
      ]
     },
     "execution_count": 55,
     "metadata": {},
     "output_type": "execute_result"
    }
   ],
   "source": [
    "movie = movie.replace(0, 0.000001)\n",
    "movie.head()"
   ]
  },
  {
   "cell_type": "code",
   "execution_count": 102,
   "metadata": {},
   "outputs": [
    {
     "data": {
      "text/html": [
       "<div>\n",
       "<style scoped>\n",
       "    .dataframe tbody tr th:only-of-type {\n",
       "        vertical-align: middle;\n",
       "    }\n",
       "\n",
       "    .dataframe tbody tr th {\n",
       "        vertical-align: top;\n",
       "    }\n",
       "\n",
       "    .dataframe thead th {\n",
       "        text-align: right;\n",
       "    }\n",
       "</style>\n",
       "<table border=\"1\" class=\"dataframe\">\n",
       "  <thead>\n",
       "    <tr style=\"text-align: right;\">\n",
       "      <th></th>\n",
       "      <th>Genre</th>\n",
       "      <th>love</th>\n",
       "      <th>marri</th>\n",
       "      <th>run</th>\n",
       "      <th>war</th>\n",
       "      <th>power</th>\n",
       "      <th>captain</th>\n",
       "      <th>ship</th>\n",
       "    </tr>\n",
       "  </thead>\n",
       "  <tbody>\n",
       "    <tr>\n",
       "      <th>180</th>\n",
       "      <td>romance</td>\n",
       "      <td>0.001425</td>\n",
       "      <td>0.000158</td>\n",
       "      <td>0.000158</td>\n",
       "      <td>0.000001</td>\n",
       "      <td>0.000158</td>\n",
       "      <td>0.000001</td>\n",
       "      <td>0.000158</td>\n",
       "    </tr>\n",
       "    <tr>\n",
       "      <th>162</th>\n",
       "      <td>action</td>\n",
       "      <td>0.000329</td>\n",
       "      <td>0.000001</td>\n",
       "      <td>0.000988</td>\n",
       "      <td>0.000659</td>\n",
       "      <td>0.000001</td>\n",
       "      <td>0.000001</td>\n",
       "      <td>0.000001</td>\n",
       "    </tr>\n",
       "    <tr>\n",
       "      <th>119</th>\n",
       "      <td>action</td>\n",
       "      <td>0.000380</td>\n",
       "      <td>0.000001</td>\n",
       "      <td>0.000380</td>\n",
       "      <td>0.000001</td>\n",
       "      <td>0.003042</td>\n",
       "      <td>0.003992</td>\n",
       "      <td>0.002852</td>\n",
       "    </tr>\n",
       "    <tr>\n",
       "      <th>187</th>\n",
       "      <td>action</td>\n",
       "      <td>0.000877</td>\n",
       "      <td>0.000001</td>\n",
       "      <td>0.000877</td>\n",
       "      <td>0.000001</td>\n",
       "      <td>0.003070</td>\n",
       "      <td>0.000001</td>\n",
       "      <td>0.002193</td>\n",
       "    </tr>\n",
       "    <tr>\n",
       "      <th>46</th>\n",
       "      <td>action</td>\n",
       "      <td>0.003149</td>\n",
       "      <td>0.000001</td>\n",
       "      <td>0.000175</td>\n",
       "      <td>0.000001</td>\n",
       "      <td>0.000001</td>\n",
       "      <td>0.000001</td>\n",
       "      <td>0.000001</td>\n",
       "    </tr>\n",
       "  </tbody>\n",
       "</table>\n",
       "</div>"
      ],
      "text/plain": [
       "       Genre      love     marri       run       war     power   captain  \\\n",
       "180  romance  0.001425  0.000158  0.000158  0.000001  0.000158  0.000001   \n",
       "162   action  0.000329  0.000001  0.000988  0.000659  0.000001  0.000001   \n",
       "119   action  0.000380  0.000001  0.000380  0.000001  0.003042  0.003992   \n",
       "187   action  0.000877  0.000001  0.000877  0.000001  0.003070  0.000001   \n",
       "46    action  0.003149  0.000001  0.000175  0.000001  0.000001  0.000001   \n",
       "\n",
       "         ship  \n",
       "180  0.000158  \n",
       "162  0.000001  \n",
       "119  0.002852  \n",
       "187  0.002193  \n",
       "46   0.000001  "
      ]
     },
     "execution_count": 102,
     "metadata": {},
     "output_type": "execute_result"
    }
   ],
   "source": [
    "#my_movie = movie[['Genre','love','marri','come','heart','make','with','never','run','war','power','captain','ship','system','happi','hous','nice','home','alarm','alien','bullet']]\n",
    "my_movie = movie[['Genre','love','marri','run','war','power','captain','ship']]\n",
    "my_movie.head()"
   ]
  },
  {
   "cell_type": "code",
   "execution_count": 24,
   "metadata": {},
   "outputs": [
    {
     "data": {
      "text/plain": [
       "0"
      ]
     },
     "execution_count": 24,
     "metadata": {},
     "output_type": "execute_result"
    }
   ],
   "source": [
    "np.count_nonzero(movie.values == 0)"
   ]
  },
  {
   "cell_type": "markdown",
   "metadata": {},
   "source": [
    "### Defining the Databunch"
   ]
  },
  {
   "cell_type": "code",
   "execution_count": 38,
   "metadata": {},
   "outputs": [],
   "source": [
    "data = (TabularList.from_df(df=movie, cont_names=movie.columns[1:] ,procs=[Normalize])\n",
    ".split_by_idx(movie.tail(42).index)\n",
    ".label_from_df('Genre')\n",
    ".databunch())"
   ]
  },
  {
   "cell_type": "code",
   "execution_count": 103,
   "metadata": {},
   "outputs": [],
   "source": [
    "data2 = (TabularList.from_df(df=my_movie, cont_names=my_movie.columns[1:] ,procs=[Normalize])\n",
    ".split_by_idx(movie.tail(42).index)\n",
    ".label_from_df('Genre')\n",
    ".databunch())"
   ]
  },
  {
   "cell_type": "code",
   "execution_count": 84,
   "metadata": {},
   "outputs": [],
   "source": [
    "learner = tabular_learner(data=data, metrics=accuracy, layers=[2000,1000])"
   ]
  },
  {
   "cell_type": "code",
   "execution_count": 106,
   "metadata": {},
   "outputs": [],
   "source": [
    "my_learner = tabular_learner(data=data2, metrics=accuracy, layers=[200,100])"
   ]
  },
  {
   "cell_type": "markdown",
   "metadata": {},
   "source": [
    "### Learning"
   ]
  },
  {
   "cell_type": "code",
   "execution_count": 112,
   "metadata": {},
   "outputs": [
    {
     "data": {
      "text/html": [
       "<table border=\"1\" class=\"dataframe\">\n",
       "  <thead>\n",
       "    <tr style=\"text-align: left;\">\n",
       "      <th>epoch</th>\n",
       "      <th>train_loss</th>\n",
       "      <th>valid_loss</th>\n",
       "      <th>accuracy</th>\n",
       "      <th>time</th>\n",
       "    </tr>\n",
       "  </thead>\n",
       "  <tbody>\n",
       "    <tr>\n",
       "      <td>0</td>\n",
       "      <td>0.343335</td>\n",
       "      <td>0.538390</td>\n",
       "      <td>0.761905</td>\n",
       "      <td>00:00</td>\n",
       "    </tr>\n",
       "    <tr>\n",
       "      <td>1</td>\n",
       "      <td>0.349876</td>\n",
       "      <td>0.539814</td>\n",
       "      <td>0.761905</td>\n",
       "      <td>00:00</td>\n",
       "    </tr>\n",
       "    <tr>\n",
       "      <td>2</td>\n",
       "      <td>0.368093</td>\n",
       "      <td>0.565093</td>\n",
       "      <td>0.761905</td>\n",
       "      <td>00:00</td>\n",
       "    </tr>\n",
       "    <tr>\n",
       "      <td>3</td>\n",
       "      <td>0.370779</td>\n",
       "      <td>0.543826</td>\n",
       "      <td>0.761905</td>\n",
       "      <td>00:00</td>\n",
       "    </tr>\n",
       "    <tr>\n",
       "      <td>4</td>\n",
       "      <td>0.370582</td>\n",
       "      <td>0.541160</td>\n",
       "      <td>0.785714</td>\n",
       "      <td>00:00</td>\n",
       "    </tr>\n",
       "    <tr>\n",
       "      <td>5</td>\n",
       "      <td>0.369097</td>\n",
       "      <td>0.543764</td>\n",
       "      <td>0.785714</td>\n",
       "      <td>00:00</td>\n",
       "    </tr>\n",
       "    <tr>\n",
       "      <td>6</td>\n",
       "      <td>0.364067</td>\n",
       "      <td>0.544115</td>\n",
       "      <td>0.761905</td>\n",
       "      <td>00:00</td>\n",
       "    </tr>\n",
       "    <tr>\n",
       "      <td>7</td>\n",
       "      <td>0.358306</td>\n",
       "      <td>0.546529</td>\n",
       "      <td>0.761905</td>\n",
       "      <td>00:00</td>\n",
       "    </tr>\n",
       "    <tr>\n",
       "      <td>8</td>\n",
       "      <td>0.354859</td>\n",
       "      <td>0.546076</td>\n",
       "      <td>0.761905</td>\n",
       "      <td>00:00</td>\n",
       "    </tr>\n",
       "    <tr>\n",
       "      <td>9</td>\n",
       "      <td>0.353828</td>\n",
       "      <td>0.545750</td>\n",
       "      <td>0.761905</td>\n",
       "      <td>00:00</td>\n",
       "    </tr>\n",
       "  </tbody>\n",
       "</table>"
      ],
      "text/plain": [
       "<IPython.core.display.HTML object>"
      ]
     },
     "metadata": {},
     "output_type": "display_data"
    }
   ],
   "source": [
    "my_learner.fit_one_cycle(10, 1e-3)"
   ]
  },
  {
   "cell_type": "markdown",
   "metadata": {},
   "source": [
    "### Interpreting the results"
   ]
  },
  {
   "cell_type": "code",
   "execution_count": 113,
   "metadata": {},
   "outputs": [],
   "source": [
    "interp= ClassificationInterpretation.from_learner(my_learner)"
   ]
  },
  {
   "cell_type": "code",
   "execution_count": 115,
   "metadata": {},
   "outputs": [
    {
     "data": {
      "image/png": "[encoded data removed]",
      "text/plain": [
       "<Figure size 432x288 with 1 Axes>"
      ]
     },
     "metadata": {},
     "output_type": "display_data"
    }
   ],
   "source": [
    "interp.plot_confusion_matrix()"
   ]
  },
  {
   "cell_type": "code",
   "execution_count": null,
   "metadata": {},
   "outputs": [],
   "source": []
  }
 ],
 "metadata": {
  "kernelspec": {
   "display_name": "Python 3",
   "language": "python",
   "name": "python3"
  },
  "language_info": {
   "codemirror_mode": {
    "name": "ipython",
    "version": 3
   },
   "file_extension": ".py",
   "mimetype": "text/x-python",
   "name": "python",
   "nbconvert_exporter": "python",
   "pygments_lexer": "ipython3",
   "version": "3.7.4"
  },
  "toc": {
   "base_numbering": 1,
   "nav_menu": {},
   "number_sections": false,
   "sideBar": true,
   "skip_h1_title": false,
   "title_cell": "Table of Contents",
   "title_sidebar": "Contents",
   "toc_cell": false,
   "toc_position": {},
   "toc_section_display": true,
   "toc_window_display": true
  }
 },
 "nbformat": 4,
 "nbformat_minor": 2
}
